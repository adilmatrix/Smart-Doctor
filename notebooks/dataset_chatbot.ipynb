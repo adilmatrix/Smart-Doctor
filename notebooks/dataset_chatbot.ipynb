{
 "cells": [
  {
   "cell_type": "code",
   "execution_count": 1,
   "metadata": {},
   "outputs": [
    {
     "name": "stdout",
     "output_type": "stream",
     "text": [
      "Requirement already satisfied: pandas in d:\\uon\\intelligent systems\\csym015-intelligentsystems\\.venv\\lib\\site-packages (2.2.3)\n",
      "Requirement already satisfied: numpy>=1.22.4 in d:\\uon\\intelligent systems\\csym015-intelligentsystems\\.venv\\lib\\site-packages (from pandas) (2.2.6)\n",
      "Requirement already satisfied: python-dateutil>=2.8.2 in d:\\uon\\intelligent systems\\csym015-intelligentsystems\\.venv\\lib\\site-packages (from pandas) (2.9.0.post0)\n",
      "Requirement already satisfied: pytz>=2020.1 in d:\\uon\\intelligent systems\\csym015-intelligentsystems\\.venv\\lib\\site-packages (from pandas) (2025.2)\n",
      "Requirement already satisfied: tzdata>=2022.7 in d:\\uon\\intelligent systems\\csym015-intelligentsystems\\.venv\\lib\\site-packages (from pandas) (2025.2)\n",
      "Requirement already satisfied: six>=1.5 in d:\\uon\\intelligent systems\\csym015-intelligentsystems\\.venv\\lib\\site-packages (from python-dateutil>=2.8.2->pandas) (1.17.0)\n"
     ]
    },
    {
     "name": "stderr",
     "output_type": "stream",
     "text": [
      "\n",
      "[notice] A new release of pip is available: 25.0.1 -> 25.1.1\n",
      "[notice] To update, run: python.exe -m pip install --upgrade pip\n"
     ]
    },
    {
     "name": "stdout",
     "output_type": "stream",
     "text": [
      "Requirement already satisfied: matplotlib in d:\\uon\\intelligent systems\\csym015-intelligentsystems\\.venv\\lib\\site-packages (3.10.3)\n",
      "Requirement already satisfied: contourpy>=1.0.1 in d:\\uon\\intelligent systems\\csym015-intelligentsystems\\.venv\\lib\\site-packages (from matplotlib) (1.3.1)\n",
      "Requirement already satisfied: cycler>=0.10 in d:\\uon\\intelligent systems\\csym015-intelligentsystems\\.venv\\lib\\site-packages (from matplotlib) (0.12.1)\n",
      "Requirement already satisfied: fonttools>=4.22.0 in d:\\uon\\intelligent systems\\csym015-intelligentsystems\\.venv\\lib\\site-packages (from matplotlib) (4.57.0)\n",
      "Requirement already satisfied: kiwisolver>=1.3.1 in d:\\uon\\intelligent systems\\csym015-intelligentsystems\\.venv\\lib\\site-packages (from matplotlib) (1.4.8)\n",
      "Requirement already satisfied: numpy>=1.23 in d:\\uon\\intelligent systems\\csym015-intelligentsystems\\.venv\\lib\\site-packages (from matplotlib) (2.2.6)\n",
      "Requirement already satisfied: packaging>=20.0 in d:\\uon\\intelligent systems\\csym015-intelligentsystems\\.venv\\lib\\site-packages (from matplotlib) (24.2)\n",
      "Requirement already satisfied: pillow>=8 in d:\\uon\\intelligent systems\\csym015-intelligentsystems\\.venv\\lib\\site-packages (from matplotlib) (11.2.1)\n",
      "Requirement already satisfied: pyparsing>=2.3.1 in d:\\uon\\intelligent systems\\csym015-intelligentsystems\\.venv\\lib\\site-packages (from matplotlib) (3.2.3)\n",
      "Requirement already satisfied: python-dateutil>=2.7 in d:\\uon\\intelligent systems\\csym015-intelligentsystems\\.venv\\lib\\site-packages (from matplotlib) (2.9.0.post0)\n",
      "Requirement already satisfied: six>=1.5 in d:\\uon\\intelligent systems\\csym015-intelligentsystems\\.venv\\lib\\site-packages (from python-dateutil>=2.7->matplotlib) (1.17.0)\n"
     ]
    },
    {
     "name": "stderr",
     "output_type": "stream",
     "text": [
      "\n",
      "[notice] A new release of pip is available: 25.0.1 -> 25.1.1\n",
      "[notice] To update, run: python.exe -m pip install --upgrade pip\n"
     ]
    },
    {
     "name": "stdout",
     "output_type": "stream",
     "text": [
      "Requirement already satisfied: seaborn in d:\\uon\\intelligent systems\\csym015-intelligentsystems\\.venv\\lib\\site-packages (0.13.2)\n",
      "Requirement already satisfied: numpy!=1.24.0,>=1.20 in d:\\uon\\intelligent systems\\csym015-intelligentsystems\\.venv\\lib\\site-packages (from seaborn) (2.2.6)\n",
      "Requirement already satisfied: pandas>=1.2 in d:\\uon\\intelligent systems\\csym015-intelligentsystems\\.venv\\lib\\site-packages (from seaborn) (2.2.3)\n",
      "Requirement already satisfied: matplotlib!=3.6.1,>=3.4 in d:\\uon\\intelligent systems\\csym015-intelligentsystems\\.venv\\lib\\site-packages (from seaborn) (3.10.3)\n",
      "Requirement already satisfied: contourpy>=1.0.1 in d:\\uon\\intelligent systems\\csym015-intelligentsystems\\.venv\\lib\\site-packages (from matplotlib!=3.6.1,>=3.4->seaborn) (1.3.1)\n",
      "Requirement already satisfied: cycler>=0.10 in d:\\uon\\intelligent systems\\csym015-intelligentsystems\\.venv\\lib\\site-packages (from matplotlib!=3.6.1,>=3.4->seaborn) (0.12.1)\n",
      "Requirement already satisfied: fonttools>=4.22.0 in d:\\uon\\intelligent systems\\csym015-intelligentsystems\\.venv\\lib\\site-packages (from matplotlib!=3.6.1,>=3.4->seaborn) (4.57.0)\n",
      "Requirement already satisfied: kiwisolver>=1.3.1 in d:\\uon\\intelligent systems\\csym015-intelligentsystems\\.venv\\lib\\site-packages (from matplotlib!=3.6.1,>=3.4->seaborn) (1.4.8)\n",
      "Requirement already satisfied: packaging>=20.0 in d:\\uon\\intelligent systems\\csym015-intelligentsystems\\.venv\\lib\\site-packages (from matplotlib!=3.6.1,>=3.4->seaborn) (24.2)\n",
      "Requirement already satisfied: pillow>=8 in d:\\uon\\intelligent systems\\csym015-intelligentsystems\\.venv\\lib\\site-packages (from matplotlib!=3.6.1,>=3.4->seaborn) (11.2.1)\n",
      "Requirement already satisfied: pyparsing>=2.3.1 in d:\\uon\\intelligent systems\\csym015-intelligentsystems\\.venv\\lib\\site-packages (from matplotlib!=3.6.1,>=3.4->seaborn) (3.2.3)\n",
      "Requirement already satisfied: python-dateutil>=2.7 in d:\\uon\\intelligent systems\\csym015-intelligentsystems\\.venv\\lib\\site-packages (from matplotlib!=3.6.1,>=3.4->seaborn) (2.9.0.post0)\n",
      "Requirement already satisfied: pytz>=2020.1 in d:\\uon\\intelligent systems\\csym015-intelligentsystems\\.venv\\lib\\site-packages (from pandas>=1.2->seaborn) (2025.2)\n",
      "Requirement already satisfied: tzdata>=2022.7 in d:\\uon\\intelligent systems\\csym015-intelligentsystems\\.venv\\lib\\site-packages (from pandas>=1.2->seaborn) (2025.2)\n",
      "Requirement already satisfied: six>=1.5 in d:\\uon\\intelligent systems\\csym015-intelligentsystems\\.venv\\lib\\site-packages (from python-dateutil>=2.7->matplotlib!=3.6.1,>=3.4->seaborn) (1.17.0)\n"
     ]
    },
    {
     "name": "stderr",
     "output_type": "stream",
     "text": [
      "\n",
      "[notice] A new release of pip is available: 25.0.1 -> 25.1.1\n",
      "[notice] To update, run: python.exe -m pip install --upgrade pip\n"
     ]
    },
    {
     "name": "stdout",
     "output_type": "stream",
     "text": [
      "Requirement already satisfied: wordcloud in d:\\uon\\intelligent systems\\csym015-intelligentsystems\\.venv\\lib\\site-packages (1.9.4)\n",
      "Requirement already satisfied: numpy>=1.6.1 in d:\\uon\\intelligent systems\\csym015-intelligentsystems\\.venv\\lib\\site-packages (from wordcloud) (2.2.6)\n",
      "Requirement already satisfied: pillow in d:\\uon\\intelligent systems\\csym015-intelligentsystems\\.venv\\lib\\site-packages (from wordcloud) (11.2.1)\n",
      "Requirement already satisfied: matplotlib in d:\\uon\\intelligent systems\\csym015-intelligentsystems\\.venv\\lib\\site-packages (from wordcloud) (3.10.3)\n",
      "Requirement already satisfied: contourpy>=1.0.1 in d:\\uon\\intelligent systems\\csym015-intelligentsystems\\.venv\\lib\\site-packages (from matplotlib->wordcloud) (1.3.1)\n",
      "Requirement already satisfied: cycler>=0.10 in d:\\uon\\intelligent systems\\csym015-intelligentsystems\\.venv\\lib\\site-packages (from matplotlib->wordcloud) (0.12.1)\n",
      "Requirement already satisfied: fonttools>=4.22.0 in d:\\uon\\intelligent systems\\csym015-intelligentsystems\\.venv\\lib\\site-packages (from matplotlib->wordcloud) (4.57.0)\n",
      "Requirement already satisfied: kiwisolver>=1.3.1 in d:\\uon\\intelligent systems\\csym015-intelligentsystems\\.venv\\lib\\site-packages (from matplotlib->wordcloud) (1.4.8)\n",
      "Requirement already satisfied: packaging>=20.0 in d:\\uon\\intelligent systems\\csym015-intelligentsystems\\.venv\\lib\\site-packages (from matplotlib->wordcloud) (24.2)\n",
      "Requirement already satisfied: pyparsing>=2.3.1 in d:\\uon\\intelligent systems\\csym015-intelligentsystems\\.venv\\lib\\site-packages (from matplotlib->wordcloud) (3.2.3)\n",
      "Requirement already satisfied: python-dateutil>=2.7 in d:\\uon\\intelligent systems\\csym015-intelligentsystems\\.venv\\lib\\site-packages (from matplotlib->wordcloud) (2.9.0.post0)\n",
      "Requirement already satisfied: six>=1.5 in d:\\uon\\intelligent systems\\csym015-intelligentsystems\\.venv\\lib\\site-packages (from python-dateutil>=2.7->matplotlib->wordcloud) (1.17.0)\n"
     ]
    },
    {
     "name": "stderr",
     "output_type": "stream",
     "text": [
      "\n",
      "[notice] A new release of pip is available: 25.0.1 -> 25.1.1\n",
      "[notice] To update, run: python.exe -m pip install --upgrade pip\n"
     ]
    },
    {
     "name": "stdout",
     "output_type": "stream",
     "text": [
      "Requirement already satisfied: numpy in d:\\uon\\intelligent systems\\csym015-intelligentsystems\\.venv\\lib\\site-packages (2.2.6)"
     ]
    },
    {
     "name": "stderr",
     "output_type": "stream",
     "text": [
      "\n",
      "[notice] A new release of pip is available: 25.0.1 -> 25.1.1\n",
      "[notice] To update, run: python.exe -m pip install --upgrade pip\n"
     ]
    },
    {
     "name": "stdout",
     "output_type": "stream",
     "text": [
      "\n"
     ]
    }
   ],
   "source": [
    "# First cell: Install required libraries\n",
    "!pip install pandas\n",
    "!pip install matplotlib\n",
    "!pip install seaborn\n",
    "!pip install wordcloud\n",
    "!pip install numpy"
   ]
  },
  {
   "cell_type": "code",
   "execution_count": 3,
   "metadata": {},
   "outputs": [],
   "source": [
    "# Second cell: Import libraries and set matplotlib backend\n",
    "import pandas as pd\n",
    "import matplotlib\n",
    "matplotlib.use('TkAgg')  # Set the backend\n",
    "import matplotlib.pyplot as plt\n",
    "import seaborn as sns\n",
    "import numpy as np\n",
    "import json\n",
    "from wordcloud import WordCloud\n",
    "\n",
    "# Set style\n",
    "plt.style.use('seaborn-v0_8')"
   ]
  },
  {
   "cell_type": "code",
   "execution_count": 4,
   "metadata": {},
   "outputs": [
    {
     "name": "stdout",
     "output_type": "stream",
     "text": [
      "Dataset Shape: (246945, 2)\n",
      "\n",
      "Columns: ['query', 'response']\n",
      "\n",
      "First 5 rows:\n",
      "                                               query        response\n",
      "0  anxiety and nervousness ,shortness of breath ,...  panic disorder\n",
      "1  shortness of breath ,depressive or psychotic s...  panic disorder\n",
      "2  anxiety and nervousness ,depression ,shortness...  panic disorder\n",
      "3  anxiety and nervousness ,depressive or psychot...  panic disorder\n",
      "4  anxiety and nervousness ,depression ,insomnia ...  panic disorder\n"
     ]
    }
   ],
   "source": [
    "# Third cell: Load and view data\n",
    "# Load the JSON data\n",
    "file_path = r\"D:\\UON\\Intelligent Systems\\CSYM015-IntelligentSystems\\dataset\\chatbot_data.json\"\n",
    "with open(file_path, 'r', encoding='utf-8') as file:\n",
    "    data = json.load(file)\n",
    "\n",
    "# Convert to DataFrame\n",
    "df = pd.DataFrame(data)\n",
    "\n",
    "# Display basic information\n",
    "print(\"Dataset Shape:\", df.shape)\n",
    "print(\"\\nColumns:\", df.columns.tolist())\n",
    "print(\"\\nFirst 5 rows:\")\n",
    "print(df.head())"
   ]
  },
  {
   "cell_type": "code",
   "execution_count": 5,
   "metadata": {},
   "outputs": [
    {
     "name": "stdout",
     "output_type": "stream",
     "text": [
      "Number of unique responses: 773\n",
      "\n",
      "Top 10 most common responses:\n",
      "response\n",
      "cystitis                          1219\n",
      "nose disorder                     1218\n",
      "vulvodynia                        1218\n",
      "complex regional pain syndrome    1217\n",
      "spondylosis                       1216\n",
      "vaginal cyst                      1215\n",
      "esophagitis                       1215\n",
      "peripheral nerve disorder         1215\n",
      "hypoglycemia                      1215\n",
      "conjunctivitis due to allergy     1215\n",
      "Name: count, dtype: int64\n"
     ]
    }
   ],
   "source": [
    "# Fourth cell: Basic statistics\n",
    "print(\"Number of unique responses:\", df['response'].nunique())\n",
    "print(\"\\nTop 10 most common responses:\")\n",
    "print(df['response'].value_counts().head(10))"
   ]
  },
  {
   "cell_type": "code",
   "execution_count": 6,
   "metadata": {},
   "outputs": [],
   "source": [
    "# Fifth cell: Simple visualization of response distribution\n",
    "plt.figure(figsize=(10, 6))\n",
    "df['response'].value_counts().head(10).plot(kind='bar')\n",
    "plt.title('Top 10 Most Common Responses')\n",
    "plt.xlabel('Response')\n",
    "plt.ylabel('Count')\n",
    "plt.xticks(rotation=45)\n",
    "plt.tight_layout()\n",
    "plt.show()"
   ]
  },
  {
   "cell_type": "code",
   "execution_count": 9,
   "metadata": {},
   "outputs": [],
   "source": [
    "# Fifth cell: Simple visualization of response distribution\n",
    "plt.figure(figsize=(10, 6))\n",
    "df['response'].value_counts().head(10).plot(kind='bar')\n",
    "plt.title('Top 10 Most Common Responses')\n",
    "plt.xlabel('Response')\n",
    "plt.ylabel('Count')\n",
    "plt.xticks(rotation=45)\n",
    "plt.tight_layout()\n",
    "# Save the plot\n",
    "plt.savefig('images/top_10_responses.png', bbox_inches='tight', dpi=300)\n",
    "plt.show()"
   ]
  },
  {
   "cell_type": "code",
   "execution_count": 13,
   "metadata": {},
   "outputs": [],
   "source": [
    "# Sixth cell: Analyze symptoms\n",
    "# Count symptoms in each query\n",
    "df['symptom_count'] = df['query'].str.split(',').str.len()\n",
    "\n",
    "# Plot distribution of symptom counts\n",
    "plt.figure(figsize=(10, 6))\n",
    "df['symptom_count'].hist(bins=30)\n",
    "plt.title('Distribution of Number of Symptoms per Query')\n",
    "plt.xlabel('Number of Symptoms')\n",
    "plt.ylabel('Count')\n",
    "# Save the plot\n",
    "plt.savefig('images/symptom_count_distribution.png', bbox_inches='tight', dpi=300)\n",
    "plt.show()"
   ]
  },
  {
   "cell_type": "code",
   "execution_count": null,
   "metadata": {},
   "outputs": [],
   "source": [
    "# Second cell: Import libraries and set matplotlib backend\n",
    "import pandas as pd\n",
    "import matplotlib\n",
    "matplotlib.use('TkAgg')  # Set the backend\n",
    "import matplotlib.pyplot as plt\n",
    "import seaborn as sns\n",
    "import numpy as np\n",
    "import json\n",
    "from wordcloud import WordCloud\n",
    "\n",
    "# Set style\n",
    "plt.style.use('seaborn-v0_8')"
   ]
  },
  {
   "cell_type": "code",
   "execution_count": 11,
   "metadata": {},
   "outputs": [],
   "source": [
    "# Seventh cell: Create word cloud\n",
    "# Get all symptoms\n",
    "all_symptoms = ' '.join(df['query'].str.split(',').explode().str.strip())\n",
    "\n",
    "# Create and display word cloud\n",
    "wordcloud = WordCloud(width=800, height=400, \n",
    "                     background_color='white',\n",
    "                     max_words=100).generate(all_symptoms)\n",
    "\n",
    "plt.figure(figsize=(15, 8))\n",
    "plt.imshow(wordcloud, interpolation='bilinear')\n",
    "plt.axis('off')\n",
    "plt.title('Word Cloud of Symptoms')\n",
    "# Save the plot\n",
    "plt.savefig('images/symptoms_wordcloud.png', bbox_inches='tight', dpi=300)\n",
    "plt.show()"
   ]
  },
  {
   "cell_type": "code",
   "execution_count": 12,
   "metadata": {},
   "outputs": [],
   "source": [
    "# Eighth cell: Additional visualization - Response distribution pie chart\n",
    "plt.figure(figsize=(12, 8))\n",
    "df['response'].value_counts().head(10).plot(kind='pie', autopct='%1.1f%%')\n",
    "plt.title('Top 10 Responses Distribution')\n",
    "plt.ylabel('')  # Remove y-label\n",
    "# Save the plot\n",
    "plt.savefig('images/responses_pie_chart.png', bbox_inches='tight', dpi=300)\n",
    "plt.show()"
   ]
  }
 ],
 "metadata": {
  "kernelspec": {
   "display_name": "Python 3 (ipykernel)",
   "language": "python",
   "name": "python3"
  },
  "language_info": {
   "codemirror_mode": {
    "name": "ipython",
    "version": 3
   },
   "file_extension": ".py",
   "mimetype": "text/x-python",
   "name": "python",
   "nbconvert_exporter": "python",
   "pygments_lexer": "ipython3",
   "version": "3.10.11"
  }
 },
 "nbformat": 4,
 "nbformat_minor": 2
}
